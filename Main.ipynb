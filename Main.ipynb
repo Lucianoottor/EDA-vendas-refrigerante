{
 "cells": [
  {
   "cell_type": "markdown",
   "id": "b282067e",
   "metadata": {},
   "source": [
    "# Análise exploratória de dados - Vendas de Refrigerante"
   ]
  },
  {
   "cell_type": "markdown",
   "id": "a0163e46",
   "metadata": {},
   "source": [
    "### Importação e tratamento de dados"
   ]
  },
  {
   "cell_type": "code",
   "execution_count": 134,
   "id": "54742d31",
   "metadata": {},
   "outputs": [
    {
     "data": {
      "text/html": [
       "<div>\n",
       "<style scoped>\n",
       "    .dataframe tbody tr th:only-of-type {\n",
       "        vertical-align: middle;\n",
       "    }\n",
       "\n",
       "    .dataframe tbody tr th {\n",
       "        vertical-align: top;\n",
       "    }\n",
       "\n",
       "    .dataframe thead th {\n",
       "        text-align: right;\n",
       "    }\n",
       "</style>\n",
       "<table border=\"1\" class=\"dataframe\">\n",
       "  <thead>\n",
       "    <tr style=\"text-align: right;\">\n",
       "      <th></th>\n",
       "      <th>Retailer</th>\n",
       "      <th>Retailer ID</th>\n",
       "      <th>Date</th>\n",
       "      <th>Month</th>\n",
       "      <th>Region</th>\n",
       "      <th>State</th>\n",
       "      <th>Beverage Brand</th>\n",
       "      <th>Price per Unit</th>\n",
       "      <th>Units Sold</th>\n",
       "    </tr>\n",
       "  </thead>\n",
       "  <tbody>\n",
       "    <tr>\n",
       "      <th>3734</th>\n",
       "      <td>Sodapop</td>\n",
       "      <td>1185732</td>\n",
       "      <td>2022-12-20</td>\n",
       "      <td>1900-01-12</td>\n",
       "      <td>Northeast</td>\n",
       "      <td>New Hampshire</td>\n",
       "      <td>Diet Coke</td>\n",
       "      <td>0.65</td>\n",
       "      <td>4000</td>\n",
       "    </tr>\n",
       "    <tr>\n",
       "      <th>3735</th>\n",
       "      <td>Sodapop</td>\n",
       "      <td>1185732</td>\n",
       "      <td>2022-12-20</td>\n",
       "      <td>1900-01-12</td>\n",
       "      <td>Northeast</td>\n",
       "      <td>New Hampshire</td>\n",
       "      <td>Sprite</td>\n",
       "      <td>0.65</td>\n",
       "      <td>3750</td>\n",
       "    </tr>\n",
       "    <tr>\n",
       "      <th>3736</th>\n",
       "      <td>Sodapop</td>\n",
       "      <td>1185732</td>\n",
       "      <td>2022-12-20</td>\n",
       "      <td>1900-01-12</td>\n",
       "      <td>Northeast</td>\n",
       "      <td>New Hampshire</td>\n",
       "      <td>Fanta</td>\n",
       "      <td>0.65</td>\n",
       "      <td>3250</td>\n",
       "    </tr>\n",
       "    <tr>\n",
       "      <th>3737</th>\n",
       "      <td>Sodapop</td>\n",
       "      <td>1185732</td>\n",
       "      <td>2022-12-20</td>\n",
       "      <td>1900-01-12</td>\n",
       "      <td>Northeast</td>\n",
       "      <td>New Hampshire</td>\n",
       "      <td>Powerade</td>\n",
       "      <td>0.75</td>\n",
       "      <td>3250</td>\n",
       "    </tr>\n",
       "    <tr>\n",
       "      <th>3738</th>\n",
       "      <td>Sodapop</td>\n",
       "      <td>1185732</td>\n",
       "      <td>2022-12-20</td>\n",
       "      <td>1900-01-12</td>\n",
       "      <td>Northeast</td>\n",
       "      <td>New Hampshire</td>\n",
       "      <td>Dasani Water</td>\n",
       "      <td>0.80</td>\n",
       "      <td>4250</td>\n",
       "    </tr>\n",
       "  </tbody>\n",
       "</table>\n",
       "</div>"
      ],
      "text/plain": [
       "     Retailer  Retailer ID       Date      Month     Region          State  \\\n",
       "3734  Sodapop      1185732 2022-12-20 1900-01-12  Northeast  New Hampshire   \n",
       "3735  Sodapop      1185732 2022-12-20 1900-01-12  Northeast  New Hampshire   \n",
       "3736  Sodapop      1185732 2022-12-20 1900-01-12  Northeast  New Hampshire   \n",
       "3737  Sodapop      1185732 2022-12-20 1900-01-12  Northeast  New Hampshire   \n",
       "3738  Sodapop      1185732 2022-12-20 1900-01-12  Northeast  New Hampshire   \n",
       "\n",
       "     Beverage Brand  Price per Unit  Units Sold  \n",
       "3734      Diet Coke            0.65        4000  \n",
       "3735         Sprite            0.65        3750  \n",
       "3736          Fanta            0.65        3250  \n",
       "3737       Powerade            0.75        3250  \n",
       "3738   Dasani Water            0.80        4250  "
      ]
     },
     "execution_count": 134,
     "metadata": {},
     "output_type": "execute_result"
    }
   ],
   "source": [
    "import pandas as pd\n",
    "import matplotlib.pyplot as plt\n",
    "import numpy as np\n",
    "import statistics as sts\n",
    "import seaborn as sns\n",
    "import matplotlib as mpl\n",
    "df = pd.read_excel(\"Dataset.xlsx\", sheet_name=1)\n",
    "df.tail()\n",
    "\n",
    "# Há 3738 elementos e 9 colunas"
   ]
  },
  {
   "cell_type": "code",
   "execution_count": 108,
   "id": "7b345a1e",
   "metadata": {},
   "outputs": [
    {
     "data": {
      "text/plain": [
       "Retailer          0\n",
       "Retailer ID       0\n",
       "Date              0\n",
       "Month             0\n",
       "Region            0\n",
       "State             0\n",
       "Beverage Brand    0\n",
       "Price per Unit    0\n",
       "Units Sold        0\n",
       "dtype: int64"
      ]
     },
     "execution_count": 108,
     "metadata": {},
     "output_type": "execute_result"
    }
   ],
   "source": [
    "# Checar se há dados nulos\n",
    "df.isnull().sum()"
   ]
  },
  {
   "cell_type": "code",
   "execution_count": 109,
   "id": "255aee28",
   "metadata": {},
   "outputs": [
    {
     "data": {
      "text/plain": [
       "Retailer                  object\n",
       "Retailer ID                int64\n",
       "Date              datetime64[ns]\n",
       "Month             datetime64[ns]\n",
       "Region                    object\n",
       "State                     object\n",
       "Beverage Brand            object\n",
       "Price per Unit           float64\n",
       "Units Sold                 int64\n",
       "dtype: object"
      ]
     },
     "execution_count": 109,
     "metadata": {},
     "output_type": "execute_result"
    }
   ],
   "source": [
    "# Checar tipos dos dados\n",
    "df.dtypes"
   ]
  },
  {
   "cell_type": "code",
   "execution_count": 110,
   "id": "0fc686e3",
   "metadata": {},
   "outputs": [
    {
     "data": {
      "text/html": [
       "<div>\n",
       "<style scoped>\n",
       "    .dataframe tbody tr th:only-of-type {\n",
       "        vertical-align: middle;\n",
       "    }\n",
       "\n",
       "    .dataframe tbody tr th {\n",
       "        vertical-align: top;\n",
       "    }\n",
       "\n",
       "    .dataframe thead th {\n",
       "        text-align: right;\n",
       "    }\n",
       "</style>\n",
       "<table border=\"1\" class=\"dataframe\">\n",
       "  <thead>\n",
       "    <tr style=\"text-align: right;\">\n",
       "      <th></th>\n",
       "      <th>Retailer</th>\n",
       "      <th>Retailer ID</th>\n",
       "      <th>Date</th>\n",
       "      <th>Month</th>\n",
       "      <th>Region</th>\n",
       "      <th>State</th>\n",
       "      <th>Beverage Brand</th>\n",
       "      <th>Price per Unit</th>\n",
       "      <th>Units Sold</th>\n",
       "      <th>_Day</th>\n",
       "      <th>_Month</th>\n",
       "      <th>_Year</th>\n",
       "    </tr>\n",
       "  </thead>\n",
       "  <tbody>\n",
       "    <tr>\n",
       "      <th>3734</th>\n",
       "      <td>Sodapop</td>\n",
       "      <td>1185732</td>\n",
       "      <td>2022-12-20</td>\n",
       "      <td>1900-01-12</td>\n",
       "      <td>Northeast</td>\n",
       "      <td>New Hampshire</td>\n",
       "      <td>Diet Coke</td>\n",
       "      <td>0.65</td>\n",
       "      <td>4000</td>\n",
       "      <td>20</td>\n",
       "      <td>12</td>\n",
       "      <td>2022</td>\n",
       "    </tr>\n",
       "    <tr>\n",
       "      <th>3735</th>\n",
       "      <td>Sodapop</td>\n",
       "      <td>1185732</td>\n",
       "      <td>2022-12-20</td>\n",
       "      <td>1900-01-12</td>\n",
       "      <td>Northeast</td>\n",
       "      <td>New Hampshire</td>\n",
       "      <td>Sprite</td>\n",
       "      <td>0.65</td>\n",
       "      <td>3750</td>\n",
       "      <td>20</td>\n",
       "      <td>12</td>\n",
       "      <td>2022</td>\n",
       "    </tr>\n",
       "    <tr>\n",
       "      <th>3736</th>\n",
       "      <td>Sodapop</td>\n",
       "      <td>1185732</td>\n",
       "      <td>2022-12-20</td>\n",
       "      <td>1900-01-12</td>\n",
       "      <td>Northeast</td>\n",
       "      <td>New Hampshire</td>\n",
       "      <td>Fanta</td>\n",
       "      <td>0.65</td>\n",
       "      <td>3250</td>\n",
       "      <td>20</td>\n",
       "      <td>12</td>\n",
       "      <td>2022</td>\n",
       "    </tr>\n",
       "    <tr>\n",
       "      <th>3737</th>\n",
       "      <td>Sodapop</td>\n",
       "      <td>1185732</td>\n",
       "      <td>2022-12-20</td>\n",
       "      <td>1900-01-12</td>\n",
       "      <td>Northeast</td>\n",
       "      <td>New Hampshire</td>\n",
       "      <td>Powerade</td>\n",
       "      <td>0.75</td>\n",
       "      <td>3250</td>\n",
       "      <td>20</td>\n",
       "      <td>12</td>\n",
       "      <td>2022</td>\n",
       "    </tr>\n",
       "    <tr>\n",
       "      <th>3738</th>\n",
       "      <td>Sodapop</td>\n",
       "      <td>1185732</td>\n",
       "      <td>2022-12-20</td>\n",
       "      <td>1900-01-12</td>\n",
       "      <td>Northeast</td>\n",
       "      <td>New Hampshire</td>\n",
       "      <td>Dasani Water</td>\n",
       "      <td>0.80</td>\n",
       "      <td>4250</td>\n",
       "      <td>20</td>\n",
       "      <td>12</td>\n",
       "      <td>2022</td>\n",
       "    </tr>\n",
       "  </tbody>\n",
       "</table>\n",
       "</div>"
      ],
      "text/plain": [
       "     Retailer  Retailer ID       Date      Month     Region          State  \\\n",
       "3734  Sodapop      1185732 2022-12-20 1900-01-12  Northeast  New Hampshire   \n",
       "3735  Sodapop      1185732 2022-12-20 1900-01-12  Northeast  New Hampshire   \n",
       "3736  Sodapop      1185732 2022-12-20 1900-01-12  Northeast  New Hampshire   \n",
       "3737  Sodapop      1185732 2022-12-20 1900-01-12  Northeast  New Hampshire   \n",
       "3738  Sodapop      1185732 2022-12-20 1900-01-12  Northeast  New Hampshire   \n",
       "\n",
       "     Beverage Brand  Price per Unit  Units Sold  _Day  _Month  _Year  \n",
       "3734      Diet Coke            0.65        4000    20      12   2022  \n",
       "3735         Sprite            0.65        3750    20      12   2022  \n",
       "3736          Fanta            0.65        3250    20      12   2022  \n",
       "3737       Powerade            0.75        3250    20      12   2022  \n",
       "3738   Dasani Water            0.80        4250    20      12   2022  "
      ]
     },
     "execution_count": 110,
     "metadata": {},
     "output_type": "execute_result"
    }
   ],
   "source": [
    "# Correção das datas\n",
    "Day = []\n",
    "Month = []\n",
    "Year = []\n",
    "for x in df.Date:\n",
    "    Day += [x.day]\n",
    "    Month += [x.month]\n",
    "    Year += [x.year]\n",
    "    \n",
    "df[\"_Day\"] = Day\n",
    "df[\"_Month\"] = Month\n",
    "df[\"_Year\"] = Year\n",
    "df.tail()"
   ]
  },
  {
   "cell_type": "markdown",
   "id": "70b08cf7",
   "metadata": {},
   "source": [
    "### Exploração de Dados"
   ]
  },
  {
   "cell_type": "code",
   "execution_count": 111,
   "id": "a1f840ad",
   "metadata": {},
   "outputs": [
    {
     "data": {
      "text/html": [
       "<div>\n",
       "<style scoped>\n",
       "    .dataframe tbody tr th:only-of-type {\n",
       "        vertical-align: middle;\n",
       "    }\n",
       "\n",
       "    .dataframe tbody tr th {\n",
       "        vertical-align: top;\n",
       "    }\n",
       "\n",
       "    .dataframe thead th {\n",
       "        text-align: right;\n",
       "    }\n",
       "</style>\n",
       "<table border=\"1\" class=\"dataframe\">\n",
       "  <thead>\n",
       "    <tr style=\"text-align: right;\">\n",
       "      <th></th>\n",
       "      <th>Retailer</th>\n",
       "      <th>Region</th>\n",
       "      <th>State</th>\n",
       "      <th>Beverage Brand</th>\n",
       "      <th>Price per Unit</th>\n",
       "      <th>Units Sold</th>\n",
       "      <th>_Day</th>\n",
       "      <th>_Month</th>\n",
       "      <th>_Year</th>\n",
       "    </tr>\n",
       "  </thead>\n",
       "  <tbody>\n",
       "    <tr>\n",
       "      <th>3734</th>\n",
       "      <td>Sodapop</td>\n",
       "      <td>Northeast</td>\n",
       "      <td>New Hampshire</td>\n",
       "      <td>Diet Coke</td>\n",
       "      <td>0.65</td>\n",
       "      <td>4000</td>\n",
       "      <td>20</td>\n",
       "      <td>12</td>\n",
       "      <td>2022</td>\n",
       "    </tr>\n",
       "    <tr>\n",
       "      <th>3735</th>\n",
       "      <td>Sodapop</td>\n",
       "      <td>Northeast</td>\n",
       "      <td>New Hampshire</td>\n",
       "      <td>Sprite</td>\n",
       "      <td>0.65</td>\n",
       "      <td>3750</td>\n",
       "      <td>20</td>\n",
       "      <td>12</td>\n",
       "      <td>2022</td>\n",
       "    </tr>\n",
       "    <tr>\n",
       "      <th>3736</th>\n",
       "      <td>Sodapop</td>\n",
       "      <td>Northeast</td>\n",
       "      <td>New Hampshire</td>\n",
       "      <td>Fanta</td>\n",
       "      <td>0.65</td>\n",
       "      <td>3250</td>\n",
       "      <td>20</td>\n",
       "      <td>12</td>\n",
       "      <td>2022</td>\n",
       "    </tr>\n",
       "    <tr>\n",
       "      <th>3737</th>\n",
       "      <td>Sodapop</td>\n",
       "      <td>Northeast</td>\n",
       "      <td>New Hampshire</td>\n",
       "      <td>Powerade</td>\n",
       "      <td>0.75</td>\n",
       "      <td>3250</td>\n",
       "      <td>20</td>\n",
       "      <td>12</td>\n",
       "      <td>2022</td>\n",
       "    </tr>\n",
       "    <tr>\n",
       "      <th>3738</th>\n",
       "      <td>Sodapop</td>\n",
       "      <td>Northeast</td>\n",
       "      <td>New Hampshire</td>\n",
       "      <td>Dasani Water</td>\n",
       "      <td>0.80</td>\n",
       "      <td>4250</td>\n",
       "      <td>20</td>\n",
       "      <td>12</td>\n",
       "      <td>2022</td>\n",
       "    </tr>\n",
       "  </tbody>\n",
       "</table>\n",
       "</div>"
      ],
      "text/plain": [
       "     Retailer     Region          State Beverage Brand  Price per Unit  \\\n",
       "3734  Sodapop  Northeast  New Hampshire      Diet Coke            0.65   \n",
       "3735  Sodapop  Northeast  New Hampshire         Sprite            0.65   \n",
       "3736  Sodapop  Northeast  New Hampshire          Fanta            0.65   \n",
       "3737  Sodapop  Northeast  New Hampshire       Powerade            0.75   \n",
       "3738  Sodapop  Northeast  New Hampshire   Dasani Water            0.80   \n",
       "\n",
       "      Units Sold  _Day  _Month  _Year  \n",
       "3734        4000    20      12   2022  \n",
       "3735        3750    20      12   2022  \n",
       "3736        3250    20      12   2022  \n",
       "3737        3250    20      12   2022  \n",
       "3738        4250    20      12   2022  "
      ]
     },
     "execution_count": 111,
     "metadata": {},
     "output_type": "execute_result"
    }
   ],
   "source": [
    "# Removendo colunas que não serão utilizadas\n",
    "df_analysis = df.drop([\"Retailer ID\", \"Date\", \"Month\"], axis = 1)\n",
    "df_analysis.tail()"
   ]
  },
  {
   "cell_type": "code",
   "execution_count": 112,
   "id": "6ec6418a",
   "metadata": {
    "scrolled": false
   },
   "outputs": [
    {
     "data": {
      "text/plain": [
       "array([[<AxesSubplot:title={'center':'Price per Unit'}>,\n",
       "        <AxesSubplot:title={'center':'Units Sold'}>],\n",
       "       [<AxesSubplot:title={'center':'_Day'}>,\n",
       "        <AxesSubplot:title={'center':'_Month'}>],\n",
       "       [<AxesSubplot:title={'center':'_Year'}>, <AxesSubplot:>]],\n",
       "      dtype=object)"
      ]
     },
     "execution_count": 112,
     "metadata": {},
     "output_type": "execute_result"
    },
    {
     "data": {
      "image/png": "[encoded data removed]",
      "text/plain": [
       "<Figure size 2160x1440 with 6 Axes>"
      ]
     },
     "metadata": {
      "needs_background": "light"
     },
     "output_type": "display_data"
    }
   ],
   "source": [
    "# Histograma dos Dados\n",
    "df_analysis.hist(figsize = (30,20), xrot = 45)"
   ]
  },
  {
   "cell_type": "code",
   "execution_count": 113,
   "id": "ec0a1174",
   "metadata": {},
   "outputs": [
    {
     "data": {
      "text/html": [
       "<div>\n",
       "<style scoped>\n",
       "    .dataframe tbody tr th:only-of-type {\n",
       "        vertical-align: middle;\n",
       "    }\n",
       "\n",
       "    .dataframe tbody tr th {\n",
       "        vertical-align: top;\n",
       "    }\n",
       "\n",
       "    .dataframe thead th {\n",
       "        text-align: right;\n",
       "    }\n",
       "</style>\n",
       "<table border=\"1\" class=\"dataframe\">\n",
       "  <thead>\n",
       "    <tr style=\"text-align: right;\">\n",
       "      <th></th>\n",
       "      <th>Price per Unit</th>\n",
       "      <th>Units Sold</th>\n",
       "      <th>_Day</th>\n",
       "      <th>_Month</th>\n",
       "      <th>_Year</th>\n",
       "    </tr>\n",
       "  </thead>\n",
       "  <tbody>\n",
       "    <tr>\n",
       "      <th>count</th>\n",
       "      <td>3739.000000</td>\n",
       "      <td>3739.000000</td>\n",
       "      <td>3739.000000</td>\n",
       "      <td>3739.000000</td>\n",
       "      <td>3739.0</td>\n",
       "    </tr>\n",
       "    <tr>\n",
       "      <th>mean</th>\n",
       "      <td>0.480342</td>\n",
       "      <td>4399.705804</td>\n",
       "      <td>12.468574</td>\n",
       "      <td>6.507355</td>\n",
       "      <td>2022.0</td>\n",
       "    </tr>\n",
       "    <tr>\n",
       "      <th>std</th>\n",
       "      <td>0.145450</td>\n",
       "      <td>2275.344133</td>\n",
       "      <td>6.709421</td>\n",
       "      <td>3.448953</td>\n",
       "      <td>0.0</td>\n",
       "    </tr>\n",
       "    <tr>\n",
       "      <th>min</th>\n",
       "      <td>0.100000</td>\n",
       "      <td>0.000000</td>\n",
       "      <td>1.000000</td>\n",
       "      <td>1.000000</td>\n",
       "      <td>2022.0</td>\n",
       "    </tr>\n",
       "    <tr>\n",
       "      <th>25%</th>\n",
       "      <td>0.400000</td>\n",
       "      <td>2500.000000</td>\n",
       "      <td>6.000000</td>\n",
       "      <td>4.000000</td>\n",
       "      <td>2022.0</td>\n",
       "    </tr>\n",
       "    <tr>\n",
       "      <th>50%</th>\n",
       "      <td>0.500000</td>\n",
       "      <td>4000.000000</td>\n",
       "      <td>12.000000</td>\n",
       "      <td>7.000000</td>\n",
       "      <td>2022.0</td>\n",
       "    </tr>\n",
       "    <tr>\n",
       "      <th>75%</th>\n",
       "      <td>0.550000</td>\n",
       "      <td>5750.000000</td>\n",
       "      <td>17.000000</td>\n",
       "      <td>10.000000</td>\n",
       "      <td>2022.0</td>\n",
       "    </tr>\n",
       "    <tr>\n",
       "      <th>max</th>\n",
       "      <td>1.100000</td>\n",
       "      <td>12750.000000</td>\n",
       "      <td>27.000000</td>\n",
       "      <td>12.000000</td>\n",
       "      <td>2022.0</td>\n",
       "    </tr>\n",
       "  </tbody>\n",
       "</table>\n",
       "</div>"
      ],
      "text/plain": [
       "       Price per Unit    Units Sold         _Day       _Month   _Year\n",
       "count     3739.000000   3739.000000  3739.000000  3739.000000  3739.0\n",
       "mean         0.480342   4399.705804    12.468574     6.507355  2022.0\n",
       "std          0.145450   2275.344133     6.709421     3.448953     0.0\n",
       "min          0.100000      0.000000     1.000000     1.000000  2022.0\n",
       "25%          0.400000   2500.000000     6.000000     4.000000  2022.0\n",
       "50%          0.500000   4000.000000    12.000000     7.000000  2022.0\n",
       "75%          0.550000   5750.000000    17.000000    10.000000  2022.0\n",
       "max          1.100000  12750.000000    27.000000    12.000000  2022.0"
      ]
     },
     "execution_count": 113,
     "metadata": {},
     "output_type": "execute_result"
    }
   ],
   "source": [
    "# Checar possíveis números-chave\n",
    "df_analysis.describe()"
   ]
  },
  {
   "cell_type": "code",
   "execution_count": 135,
   "id": "c77d95b0",
   "metadata": {},
   "outputs": [
    {
     "name": "stdout",
     "output_type": "stream",
     "text": [
      "0.49999999999999994\n"
     ]
    }
   ],
   "source": [
    "mediana_preco = sts.median(df_analysis[\"Price per Unit\"])\n",
    "print(mediana_preco)\n",
    "# O valor da mediana e da moda são parecidos, o que indica poucos outliers"
   ]
  },
  {
   "cell_type": "code",
   "execution_count": 115,
   "id": "bf11b32d",
   "metadata": {
    "scrolled": false
   },
   "outputs": [
    {
     "data": {
      "image/png": "[encoded data removed]",
      "text/plain": [
       "<Figure size 432x288 with 1 Axes>"
      ]
     },
     "metadata": {
      "needs_background": "light"
     },
     "output_type": "display_data"
    },
    {
     "data": {
      "image/png": "[encoded data removed]",
      "text/plain": [
       "<Figure size 432x288 with 1 Axes>"
      ]
     },
     "metadata": {
      "needs_background": "light"
     },
     "output_type": "display_data"
    }
   ],
   "source": [
    "for column in df_analysis.select_dtypes(include='object'):\n",
    "    if df_analysis[column].nunique() < 6:\n",
    "        sns.countplot(y=column, data=df_analysis)\n",
    "        plt.show()"
   ]
  },
  {
   "cell_type": "code",
   "execution_count": 116,
   "id": "ca98c58f",
   "metadata": {},
   "outputs": [
    {
     "data": {
      "image/png": "[encoded data removed]",
      "text/plain": [
       "<Figure size 432x288 with 1 Axes>"
      ]
     },
     "metadata": {
      "needs_background": "light"
     },
     "output_type": "display_data"
    },
    {
     "data": {
      "image/png": "[encoded data removed]",
      "text/plain": [
       "<Figure size 432x288 with 1 Axes>"
      ]
     },
     "metadata": {
      "needs_background": "light"
     },
     "output_type": "display_data"
    },
    {
     "data": {
      "image/png": "[encoded data removed]",
      "text/plain": [
       "<Figure size 432x288 with 1 Axes>"
      ]
     },
     "metadata": {
      "needs_background": "light"
     },
     "output_type": "display_data"
    }
   ],
   "source": [
    "for column in df_analysis.select_dtypes(include='object'):\n",
    "    if df_analysis[column].nunique() < 10:\n",
    "        sns.boxplot(y=column, x='Price per Unit', data=df_analysis)\n",
    "        plt.show()"
   ]
  },
  {
   "cell_type": "code",
   "execution_count": 132,
   "id": "2f5fd5ba",
   "metadata": {
    "scrolled": false
   },
   "outputs": [
    {
     "data": {
      "text/plain": [
       "<AxesSubplot:xlabel='Units Sold', ylabel='Region'>"
      ]
     },
     "execution_count": 132,
     "metadata": {},
     "output_type": "execute_result"
    },
    {
     "data": {
      "image/png": "[encoded data removed]",
      "text/plain": [
       "<Figure size 216x504 with 1 Axes>"
      ]
     },
     "metadata": {},
     "output_type": "display_data"
    }
   ],
   "source": [
    "f, ax = plt.subplots(figsize=(3, 7))\n",
    "sns.barplot(x=\"Units Sold\", y=\"Region\", data=df_analysis)"
   ]
  },
  {
   "cell_type": "code",
   "execution_count": 117,
   "id": "07788f2e",
   "metadata": {},
   "outputs": [
    {
     "data": {
      "image/png": "[encoded data removed]",
      "text/plain": [
       "<Figure size 432x288 with 1 Axes>"
      ]
     },
     "metadata": {
      "needs_background": "light"
     },
     "output_type": "display_data"
    },
    {
     "data": {
      "image/png": "[encoded data removed]",
      "text/plain": [
       "<Figure size 432x288 with 1 Axes>"
      ]
     },
     "metadata": {
      "needs_background": "light"
     },
     "output_type": "display_data"
    },
    {
     "data": {
      "image/png": "[encoded data removed]",
      "text/plain": [
       "<Figure size 432x288 with 1 Axes>"
      ]
     },
     "metadata": {
      "needs_background": "light"
     },
     "output_type": "display_data"
    }
   ],
   "source": [
    "for column in df_analysis.select_dtypes(include='object'):\n",
    "    if df_analysis[column].nunique() < 10:\n",
    "        sns.boxplot(y=column, x='Units Sold', data=df_analysis)\n",
    "        plt.show()"
   ]
  },
  {
   "cell_type": "markdown",
   "id": "c8fdc1bf",
   "metadata": {},
   "source": [
    "# Conclusões"
   ]
  },
  {
   "cell_type": "code",
   "execution_count": null,
   "id": "839e47c7",
   "metadata": {},
   "outputs": [],
   "source": [
    "# A região sudeste é que mais vende unidades\n",
    "# Coca-Cola é o produto mais vendido\n",
    "# Oeste é a região com os maiores preços\n",
    "# Dasani Water e Powerade possuem os preços mais caros\n",
    "# DreamCo é a distribuidora com mais unidades vendidas"
   ]
  }
 ],
 "metadata": {
  "kernelspec": {
   "display_name": "Python 3 (ipykernel)",
   "language": "python",
   "name": "python3"
  },
  "language_info": {
   "codemirror_mode": {
    "name": "ipython",
    "version": 3
   },
   "file_extension": ".py",
   "mimetype": "text/x-python",
   "name": "python",
   "nbconvert_exporter": "python",
   "pygments_lexer": "ipython3",
   "version": "3.10.5"
  }
 },
 "nbformat": 4,
 "nbformat_minor": 5
}
